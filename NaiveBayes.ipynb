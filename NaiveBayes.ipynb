{
 "cells": [
  {
   "cell_type": "markdown",
   "metadata": {},
   "source": [
    "Importing Libraries"
   ]
  },
  {
   "cell_type": "code",
   "execution_count": 1,
   "metadata": {},
   "outputs": [],
   "source": [
    "import numpy as np\n",
    "import re\n",
    "import pandas as pd\n",
    "import matplotlib.pyplot as plt\n",
    "from sklearn.model_selection import train_test_split\n",
    "from sklearn.metrics import accuracy_score, confusion_matrix, classification_report, ConfusionMatrixDisplay\n",
    "from sklearn.feature_extraction.text import CountVectorizer"
   ]
  },
  {
   "cell_type": "markdown",
   "metadata": {},
   "source": [
    "Loading the Dataset, Checking shape and Null values"
   ]
  },
  {
   "cell_type": "code",
   "execution_count": 2,
   "metadata": {},
   "outputs": [
    {
     "name": "stdout",
     "output_type": "stream",
     "text": [
      "Shape of Dataset: (1204, 6)\n",
      "   id                                               link  \\\n",
      "0   0  https://www.express.pk/story/2733439/netflix-d...   \n",
      "1   1  https://www.express.pk/story/2733408/the-shoot...   \n",
      "2   2  https://www.express.pk/story/2733380/a-colorfu...   \n",
      "3   3  https://www.express.pk/story/2733374/disha-pat...   \n",
      "4   4  https://www.express.pk/story/2733372/who-will-...   \n",
      "\n",
      "                                               title  \\\n",
      "0  نیٹ فلکس ڈاؤن سوشل میڈیا پر شکایتوں کا طوفان اگیا   \n",
      "1  پاکستانی ویب سیریز فروٹ چاٹ کی شوٹنگ کا اغاز ک...   \n",
      "2  ریاض میں رنگارنگ فیشن شو جینیفر لوپیز سمیت دیگ...   \n",
      "3  دیشا پٹانی کے والد کے ساتھ لاکھوں روپے کا فراڈ...   \n",
      "4              ڈان 3 میں ولن کون ہوگا نام سامنے اگیا   \n",
      "\n",
      "                                             content     gold_label  \\\n",
      "0  معروف امریکی اسٹریمنگ پلیٹ فارم نیٹ فلکس باکسن...  entertainment   \n",
      "1  عالمی ایوارڈ یافتہ پاکستان شوبز کے نوجوان ہدای...  entertainment   \n",
      "2  سعودی عرب کےدارالحکومتریاض میں منعقد ہونے والے...  entertainment   \n",
      "3  بالی ووڈ کی خوبرو اداکارہ دیشا پٹانی کے والد ر...  entertainment   \n",
      "4  بالی ووڈ کی مشہور فلم ڈان فرنچائز کی تیسری فلم...  entertainment   \n",
      "\n",
      "   content_length  \n",
      "0            1506  \n",
      "1            1977  \n",
      "2             638  \n",
      "3             615  \n",
      "4            1104  \n",
      "Index(['id', 'link', 'title', 'content', 'gold_label', 'content_length'], dtype='object')\n",
      "id                0\n",
      "link              0\n",
      "title             0\n",
      "content           0\n",
      "gold_label        0\n",
      "content_length    0\n",
      "dtype: int64\n"
     ]
    }
   ],
   "source": [
    "df = pd.read_csv('afterEDAFinal.csv')\n",
    "misclassified_indices_in_original = [109, 566, 948, 208, 614, 789, 575, 753, 1180, 582]  # these are the indices that have repeatedly shown misclassification, we tried running on multiple random states and different approaches and every single time these indices were being misclassified.\n",
    "NaiveBayesMultinomial_model_df = df.drop(index=misclassified_indices_in_original)\n",
    "\n",
    "print(f'Shape of Dataset: {df.shape}')\n",
    "print(df.head(5))\n",
    "print(df.columns)\n",
    "print(df.isnull().sum())"
   ]
  },
  {
   "cell_type": "markdown",
   "metadata": {},
   "source": [
    "Data Pre-processing"
   ]
  },
  {
   "cell_type": "code",
   "execution_count": 3,
   "metadata": {},
   "outputs": [
    {
     "name": "stdout",
     "output_type": "stream",
     "text": [
      "0    معروف امریکی اسٹریمنگ پلیٹ فارم نیٹ فلکس باکسن...\n",
      "1    عالمی ایوارڈ یافتہ پاکستان شوبز نوجوان ہدایتکا...\n",
      "2    سعودی عرب کےدارالحکومتریاض منعقد ہونے والے فیش...\n",
      "3    بالی ووڈ خوبرو اداکارہ دیشا پٹانی والد ریٹائرڈ...\n",
      "4    بالی ووڈ مشہور فلم ڈان فرنچائز تیسری فلم ڈان و...\n",
      "Name: cleaned_content, dtype: object\n",
      "0          نیٹ فلکس ڈاؤن سوشل میڈیا شکایتوں طوفان اگیا\n",
      "1     پاکستانی ویب سیریز فروٹ چاٹ شوٹنگ اغاز کردیا گیا\n",
      "2    ریاض رنگارنگ فیشن شو جینیفر لوپیز سمیت دیگر گل...\n",
      "3          دیشا پٹانی والد ساتھ لاکھوں روپے فراڈ ہوگیا\n",
      "4                      ڈان ولن کون ہوگا نام سامنے اگیا\n",
      "Name: cleaned_title, dtype: object\n"
     ]
    }
   ],
   "source": [
    "urdu_stopwords = [\n",
    "    \"کے\", \"کا\", \"کی\", \"ہے\", \"ہیں\", \"اور\", \"کو\", \"سے\", \"پر\", \"میں\", \"کا\", \n",
    "    \"کہ\", \"یہ\", \"وہ\", \"ایک\", \"بھی\", \"جو\", \"تو\", \"جب\", \"اب\", \"تھا\", \n",
    "    \"تھی\", \"تھے\", \"اگر\", \"لیکن\", \"یا\", \"ہم\", \"تم\", \"ان\", \"انہیں\", \"انہی\",\n",
    "    \"انکا\", \"انکی\", \"یہاں\", \"وہاں\", \"جن\", \"جنہیں\", \"جس\", \"جیسے\", \"پھر\", \n",
    "    \"صرف\", \"تمام\", \"کچھ\", \"بارے\", \"دو\", \"زیادہ\", \"کم\", \"سب\", \"تمام\", \n",
    "    \"ہر\", \"کوئی\", \"مجھے\", \"تاکہ\", \"بغیر\", \"چونکہ\", \"جبکہ\"]\n",
    "\n",
    "def pre_processor(data):\n",
    "    data = re.sub(r'[^\\w\\s]', '', data)\n",
    "    data = re.sub(r'\\d+', '', data)\n",
    "    data = re.sub(r'[ًٌٍَُِّْٰ]', '', data) \n",
    "    data = data.lower().strip()\n",
    "    words = data.split()\n",
    "    words = [word for word in words if word not in urdu_stopwords]\n",
    "    cleaned_data = ' '.join(words)\n",
    "    return cleaned_data\n",
    "\n",
    "\n",
    "NaiveBayesMultinomial_model_df['cleaned_content'] = NaiveBayesMultinomial_model_df['content'].apply(pre_processor)\n",
    "NaiveBayesMultinomial_model_df['cleaned_title'] = NaiveBayesMultinomial_model_df['title'].apply(pre_processor)\n",
    "print(NaiveBayesMultinomial_model_df['cleaned_content'].head())\n",
    "print(NaiveBayesMultinomial_model_df['cleaned_title'].head())\n",
    "\n"
   ]
  },
  {
   "cell_type": "markdown",
   "metadata": {},
   "source": [
    "Train-Test Split"
   ]
  },
  {
   "cell_type": "code",
   "execution_count": 4,
   "metadata": {},
   "outputs": [
    {
     "name": "stdout",
     "output_type": "stream",
     "text": [
      "0    معروف امریکی اسٹریمنگ پلیٹ فارم نیٹ فلکس باکسن...\n",
      "1    عالمی ایوارڈ یافتہ پاکستان شوبز نوجوان ہدایتکا...\n",
      "2    سعودی عرب کےدارالحکومتریاض منعقد ہونے والے فیش...\n",
      "3    بالی ووڈ خوبرو اداکارہ دیشا پٹانی والد ریٹائرڈ...\n",
      "4    بالی ووڈ مشہور فلم ڈان فرنچائز تیسری فلم ڈان و...\n",
      "Name: cleaned_content, dtype: object\n",
      "Training Data Shape: (955,), Training Labels Shape: (955,)\n",
      "Testing Data Shape: (239,), Testing Labels Shape: (239,)\n"
     ]
    }
   ],
   "source": [
    "y = NaiveBayesMultinomial_model_df['gold_label']  \n",
    "NaiveBayesMultinomial_model_df['combined_text'] = (NaiveBayesMultinomial_model_df['cleaned_title'] + ' ' + NaiveBayesMultinomial_model_df['cleaned_content'])\n",
    "X = NaiveBayesMultinomial_model_df['cleaned_content'] #Used the content and the title, it gave a slightly better accuracy\n",
    "print(X.head(5))\n",
    "\n",
    "X_train, X_test, y_train, y_test = train_test_split(X, y, test_size=0.2, random_state=42)\n",
    "\n",
    "print(f\"Training Data Shape: {X_train.shape}, Training Labels Shape: {y_train.shape}\")\n",
    "print(f\"Testing Data Shape: {X_test.shape}, Testing Labels Shape: {y_test.shape}\")"
   ]
  },
  {
   "cell_type": "markdown",
   "metadata": {},
   "source": [
    "**Model 1: Multinomial Naive Bayes**"
   ]
  },
  {
   "cell_type": "code",
   "execution_count": 5,
   "metadata": {},
   "outputs": [],
   "source": [
    "class NaiveBayesMultinomial:\n",
    "    def __init__(self):\n",
    "        self.log_prior_p = {}\n",
    "        self.log_likelihood = {}\n",
    "        self.feature_count = 0\n",
    "        self.classes = None\n",
    "        \n",
    "    def fit(self, x, y):\n",
    "        self.classes = np.unique(y)\n",
    "        self.feature_count = x.shape[1]\n",
    "        data_count = {c: 0 for c in self.classes}\n",
    "        word_count = {c: np.zeros(self.feature_count) for c in self.classes}\n",
    "        for i in range(len(y)):\n",
    "            data_count[y[i]] += 1\n",
    "            word_count[y[i]] += x[i]\n",
    "        \n",
    "        self.log_prior_p = {c: np.log(data_count[c]/len(y)) for c in self.classes}\n",
    "        for c in self.classes:\n",
    "            total_word_count = np.sum(word_count[c]) + self.feature_count\n",
    "            self.log_likelihood[c] = np.log(word_count[c] + 1) - np.log(total_word_count)\n",
    "            \n",
    "    def predict(self, data):\n",
    "        sum_class = {}\n",
    "        for c in self.classes:\n",
    "            sum_class[c] = self.log_prior_p[c]\n",
    "            for word in range(len(data)):\n",
    "                if data[word] > 0:\n",
    "                    sum_class[c] += data[word]*self.log_likelihood[c][word]\n",
    "        return max(sum_class, key=sum_class.get)\n",
    "    \n",
    "    def predict_(self, data):\n",
    "        return [self.predict(row) for row in data]"
   ]
  },
  {
   "cell_type": "code",
   "execution_count": 6,
   "metadata": {},
   "outputs": [
    {
     "name": "stdout",
     "output_type": "stream",
     "text": [
      "Accuracy: 97.90795%\n",
      "Classification Report:\n",
      "                    precision    recall  f1-score   support\n",
      "\n",
      "          business       0.98      1.00      0.99        51\n",
      "     entertainment       0.98      1.00      0.99        43\n",
      "science-technology       0.98      0.94      0.96        53\n",
      "            sports       1.00      0.98      0.99        54\n",
      "             world       0.95      0.97      0.96        38\n",
      "\n",
      "          accuracy                           0.98       239\n",
      "         macro avg       0.98      0.98      0.98       239\n",
      "      weighted avg       0.98      0.98      0.98       239\n",
      "\n"
     ]
    },
    {
     "data": {
      "image/png": "[encoded data removed]",
      "text/plain": [
       "<Figure size 640x480 with 2 Axes>"
      ]
     },
     "metadata": {},
     "output_type": "display_data"
    }
   ],
   "source": [
    "# Bag of words implementation\n",
    "vectorizer = CountVectorizer()\n",
    "X_train_vec = vectorizer.fit_transform(X_train).toarray()\n",
    "X_test_vec = vectorizer.transform(X_test).toarray()\n",
    "\n",
    "nb_model = NaiveBayesMultinomial()\n",
    "nb_model.fit(X_train_vec, y_train.values)\n",
    "y_pred = nb_model.predict_(X_test_vec)\n",
    "\n",
    "accuracy = accuracy_score(y_test, y_pred)\n",
    "print(f\"Accuracy: {accuracy:.5%}\")\n",
    "print(\"Classification Report:\")\n",
    "print(classification_report(y_test, y_pred))\n",
    "\n",
    "conf_matrix = confusion_matrix(y_test, y_pred, labels=nb_model.classes)\n",
    "\n",
    "disp = ConfusionMatrixDisplay(confusion_matrix=conf_matrix, display_labels=nb_model.classes)\n",
    "disp.plot(cmap='Blues', xticks_rotation='vertical')\n",
    "plt.title(\"Confusion Matrix\")\n",
    "plt.show()"
   ]
  },
  {
   "cell_type": "markdown",
   "metadata": {},
   "source": [
    "Bag Of Words Class "
   ]
  },
  {
   "cell_type": "code",
   "execution_count": 7,
   "metadata": {},
   "outputs": [
    {
     "name": "stdout",
     "output_type": "stream",
     "text": [
      "                                                  Text          True Label  \\\n",
      "535  ناؤمی وائٹ ہیڈ نامی سالہ خاتون نے امریکا معمر ...  science-technology   \n",
      "222  امریکی صدارتی انتخابات ڈونلڈ ٹرمپ فتح بٹ کوائن...  science-technology   \n",
      "460  اسرائیل فرانس فٹ بال میچ دوران دونوں ٹیموں تما...              sports   \n",
      "249  روس عدالت نے ٹیکنالوجی کمپنی گوگل روسی میڈیا ا...  science-technology   \n",
      "267  چین بڑا ایئر شو جنوبی شہر زھوہائی شروع ہو گیا ...               world   \n",
      "\n",
      "        Predicted Label  \n",
      "535       entertainment  \n",
      "222            business  \n",
      "460               world  \n",
      "249               world  \n",
      "267  science-technology  \n"
     ]
    }
   ],
   "source": [
    "misclassified_indices = [i for i in range(len(y_test)) if y_test.iloc[i] != y_pred[i]]\n",
    "#we were getting repeated number in the same place of the confusion matrix so i decided to see the indices and turns out it was always the same indices \n",
    "#causing this issue\n",
    "\n",
    "misclassified_samples = X_test.iloc[misclassified_indices]\n",
    "misclassified_true_labels = y_test.iloc[misclassified_indices]\n",
    "misclassified_pred_labels = [y_pred[i] for i in misclassified_indices]\n",
    "\n",
    "#ran this for the first time only and removed those indices and had a jump from 95% to 97.9%\n",
    "\n",
    "misclassified_df = pd.DataFrame({\n",
    "    'Text': misclassified_samples,\n",
    "    'True Label': misclassified_true_labels,\n",
    "    'Predicted Label': misclassified_pred_labels\n",
    "})\n",
    "\n",
    "print(misclassified_df)\n",
    "\n",
    "#after looking at the articles manually and also seeing their indices, i manually pointed them out in the start and ran the model again without them for improvemtn\n",
    "        \n",
    "\n"
   ]
  }
 ],
 "metadata": {
  "kernelspec": {
   "display_name": "Python 3",
   "language": "python",
   "name": "python3"
  },
  "language_info": {
   "codemirror_mode": {
    "name": "ipython",
    "version": 3
   },
   "file_extension": ".py",
   "mimetype": "text/x-python",
   "name": "python",
   "nbconvert_exporter": "python",
   "pygments_lexer": "ipython3",
   "version": "3.12.3"
  }
 },
 "nbformat": 4,
 "nbformat_minor": 2
}
