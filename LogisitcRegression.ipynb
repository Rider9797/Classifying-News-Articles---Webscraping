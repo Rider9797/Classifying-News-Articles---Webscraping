{
 "cells": [
  {
   "cell_type": "markdown",
   "metadata": {},
   "source": [
    "**Model 2: Logistic Regression**"
   ]
  },
  {
   "cell_type": "code",
   "execution_count": 1,
   "metadata": {},
   "outputs": [
    {
     "name": "stderr",
     "output_type": "stream",
     "text": [
      "C:\\Users\\Rayed\\AppData\\Local\\Temp\\ipykernel_23412\\1658054317.py:16: FutureWarning: Downcasting behavior in `replace` is deprecated and will be removed in a future version. To retain the old behavior, explicitly call `result.infer_objects(copy=False)`. To opt-in to the future behavior, set `pd.set_option('future.no_silent_downcasting', True)`\n",
      "  data = data.replace({'entertainment':0,'business':1,'sports':2,'science-technology':3,'world':4})\n"
     ]
    },
    {
     "name": "stdout",
     "output_type": "stream",
     "text": [
      "Accuracy:  95.0207468879668\n",
      "F1:  0.9496705202299285\n",
      "              precision    recall  f1-score   support\n",
      "\n",
      "           0       0.94      0.98      0.96        48\n",
      "           1       0.97      0.90      0.94        42\n",
      "           2       0.98      1.00      0.99        51\n",
      "           3       0.93      0.93      0.93        45\n",
      "           4       0.93      0.93      0.93        55\n",
      "\n",
      "    accuracy                           0.95       241\n",
      "   macro avg       0.95      0.95      0.95       241\n",
      "weighted avg       0.95      0.95      0.95       241\n",
      "\n"
     ]
    },
    {
     "data": {
      "image/png": "[encoded data removed]",
      "text/plain": [
       "<Figure size 640x480 with 2 Axes>"
      ]
     },
     "metadata": {},
     "output_type": "display_data"
    }
   ],
   "source": [
    "import numpy as np\n",
    "import pandas as pd\n",
    "import seaborn as sns\n",
    "from sklearn.model_selection import train_test_split\n",
    "from sklearn.metrics import accuracy_score, f1_score, confusion_matrix, classification_report\n",
    "from sklearn.feature_extraction.text import TfidfVectorizer\n",
    "from sklearn.model_selection import train_test_split\n",
    "\n",
    "data = pd.read_csv('afterEDAFinal.csv')\n",
    "X = data['content']\n",
    "y = data['gold_label']  \n",
    "\n",
    "vectorizer = TfidfVectorizer(max_features=11000)  \n",
    "X_transformed = vectorizer.fit_transform(X).toarray()\n",
    "\n",
    "data = data.replace({'entertainment':0,'business':1,'sports':2,'science-technology':3,'world':4})\n",
    "y_transformed = data['gold_label']\n",
    "\n",
    "X_train, X_test, y_train, y_test = train_test_split(X_transformed, y_transformed, test_size=0.2, random_state=42)\n",
    "\n",
    "class LogisticRegression:\n",
    "    def __init__(self, lr, epochs):\n",
    "        self.lr = lr\n",
    "        self.epochs = epochs\n",
    "\n",
    "    def sigmoid(self, z):\n",
    "        return 1 / (1 + np.exp(-z))\n",
    "\n",
    "    def fit(self, X, y):\n",
    "        self.weights = np.zeros(11000)\n",
    "        self.bias = 1\n",
    "        for i in range(0,self.epochs):\n",
    "            z = np.dot(X, self.weights) + self.bias\n",
    "            predictions = self.sigmoid(z)\n",
    "            gradient_weight = (1/len(X_train))*np.dot(X.T,(predictions - y))\n",
    "            gradient_bias = (1/len(X_train))*np.sum(predictions - y)\n",
    "            self.weights = self.weights-(self.lr*gradient_weight)\n",
    "            self.bias = self.bias-(self.lr*gradient_bias)\n",
    "            \n",
    "    def predict(self,X):\n",
    "        hypothesis_func = np.dot(X, self.weights)+self.bias\n",
    "        prob = self.sigmoid(hypothesis_func)\n",
    "        label = 0\n",
    "        if prob>=0.5:\n",
    "            label = 1\n",
    "        return label, prob\n",
    "    \n",
    "    def evaluate(self,y_true,y_pred):\n",
    "        conf = confusion_matrix(y_true, y_pred)\n",
    "        accuracy = accuracy_score(y_true, y_pred)*100\n",
    "        f1 = f1_score(y_true, y_pred, average='macro')\n",
    "        return conf,accuracy,f1\n",
    "\n",
    "class1 = LogisticRegression(0.1,2000) \n",
    "class2 = LogisticRegression(0.1,2000) \n",
    "class3 = LogisticRegression(0.1,2000) \n",
    "class4 = LogisticRegression(0.1,2000) \n",
    "class5 = LogisticRegression(0.1,2000) \n",
    "\n",
    "classifiers = [class1,class2,class3, class4,class5]\n",
    "classes = ['entertainment','business','sports','science-technology','world']\n",
    "\n",
    "for i in range(5):\n",
    "    y_binary = (y_train == i).astype(int) \n",
    "    classifiers[i].fit(X_train,y_binary)       \n",
    "\n",
    "results = {\n",
    "    'Class': [],\n",
    "    'Probs':[],\n",
    "}\n",
    "for i in range(5):  \n",
    "    y_binary = (y_test == i).astype(int) \n",
    "    predicted_labels = []\n",
    "    probabilities = []\n",
    "    for test_feature in X_test:\n",
    "        predicted_class, probability = classifiers[i].predict(test_feature)     \n",
    "        predicted_labels.append(predicted_class)\n",
    "        probabilities.append(probability)\n",
    "    cm, accuracy, f1 = classifiers[i].evaluate(y_binary,predicted_labels) \n",
    "    results['Class'].append(i)\n",
    "    results['Probs'].append(probabilities)\n",
    "results_df = pd.DataFrame(results)\n",
    "p = 0\n",
    "predictions = []\n",
    "for test_ in X_test:\n",
    "    prob1 = results_df.loc[0,'Probs'][p]\n",
    "    prob2 = results_df.loc[1,'Probs'][p]\n",
    "    prob3 = results_df.loc[2,'Probs'][p]\n",
    "    prob4 = results_df.loc[3,'Probs'][p]\n",
    "    prob5 = results_df.loc[4,'Probs'][p]\n",
    "\n",
    "    prob = [prob1,prob2,prob3,prob4,prob5]\n",
    "    label = np.argmax(prob)\n",
    "    predictions.append(label)\n",
    "    p = p + 1\n",
    "#------------evaluation------------------\n",
    "conf = confusion_matrix(y_test, predictions)\n",
    "accuracy = accuracy_score(y_test, predictions)*100\n",
    "f1 = f1_score(y_test, predictions, average='macro')\n",
    "print(\"Accuracy: \",accuracy)\n",
    "print(\"F1: \",f1)\n",
    "sns.heatmap(conf,annot=True)\n",
    "classification = classification_report(y_test,predictions)\n",
    "print(classification)"
   ]
  }
 ],
 "metadata": {
  "kernelspec": {
   "display_name": "Python 3",
   "language": "python",
   "name": "python3"
  },
  "language_info": {
   "codemirror_mode": {
    "name": "ipython",
    "version": 3
   },
   "file_extension": ".py",
   "mimetype": "text/x-python",
   "name": "python",
   "nbconvert_exporter": "python",
   "pygments_lexer": "ipython3",
   "version": "3.12.3"
  }
 },
 "nbformat": 4,
 "nbformat_minor": 2
}
